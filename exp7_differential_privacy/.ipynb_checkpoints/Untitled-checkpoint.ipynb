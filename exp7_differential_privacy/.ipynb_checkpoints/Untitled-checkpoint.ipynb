{
 "cells": [
  {
   "cell_type": "code",
   "execution_count": null,
   "id": "a3112841-37c8-412a-a39d-1868b5dc9ae8",
   "metadata": {},
   "outputs": [],
   "source": [
    "import matplotlib.pyplot as pit\n",
    "import numpy as np\n",
    "def laplace_function(x, lambda_):\n",
    "return (1/ (2*1ambda_)) * np.e**(-1*(np.abs(x)/lambda_))\n",
    "x = np. linspace(-5,5,10000)\n",
    "y1 = [laplace_function(X_,1) for X_ in x]\n",
    "y2 = [laplace_function(X_;2) for X_ in x]\n",
    "y3 = [laplace_function(X_,0.5) for X_ in x]\n",
    "pit.plot (x, y1, color='r', label=\"lambda:1\")\n",
    "pit.plot (x, y2, color='g', label-\"lambda:2\")\n",
    "pit.plot(x, y3, color='b', label= \"lambda:0.5\")\n",
    "\n",
    "pit.title(\"Laplace distribution\")\n",
    "plt.legend ()\n",
    "pit.show)"
   ]
  }
 ],
 "metadata": {
  "kernelspec": {
   "display_name": "Python 3 (ipykernel)",
   "language": "python",
   "name": "python3"
  },
  "language_info": {
   "codemirror_mode": {
    "name": "ipython",
    "version": 3
   },
   "file_extension": ".py",
   "mimetype": "text/x-python",
   "name": "python",
   "nbconvert_exporter": "python",
   "pygments_lexer": "ipython3",
   "version": "3.11.3"
  }
 },
 "nbformat": 4,
 "nbformat_minor": 5
}
